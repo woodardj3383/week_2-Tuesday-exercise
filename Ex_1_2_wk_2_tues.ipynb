{
 "cells": [
  {
   "cell_type": "code",
   "execution_count": 63,
   "metadata": {},
   "outputs": [
    {
     "name": "stdout",
     "output_type": "stream",
     "text": [
      "grocery list: ['beer', 'cheese', 'soup']\n"
     ]
    }
   ],
   "source": [
    "from IPython.display import clear_output\n",
    "def fill_cart():\n",
    "    grocery_list = []\n",
    "    while True:\n",
    "        print(\"\"\"\n",
    "        Type 'n' to exit program\n",
    "        Type 'ENTER' to continue\n",
    "        \"\"\")\n",
    "        \n",
    "        ask = input()\n",
    "        \n",
    "        clear_output()\n",
    "    \n",
    "        if ask  == 'n':\n",
    "            print(f'grocery list: {grocery_list}')\n",
    "            break\n",
    "        elif'ENTER':\n",
    "            \n",
    "            items = input(\"\"\"\"\n",
    "            What do you need form the store? \n",
    "            Type 'Show' to show and remove cart contents: \n",
    "            \"\"\")\n",
    "            clear_output()\n",
    "            grocery_list.append(items)\n",
    "            if items =='show':\n",
    "                grocery_list.remove('show') \n",
    "                print(f'grocery list: {grocery_list}' )\n",
    "                remove =input(\"\"\"Do you want to put something back? \n",
    "            \\nPress 'ENTER' to skip:\n",
    "            \\n\n",
    "                \"\"\")\n",
    "                clear_output()\n",
    "                for i in grocery_list:\n",
    "                    if i == remove:\n",
    "                        grocery_list.remove(i)\n",
    "                        print(f'grocery list: {grocery_list}')\n",
    "                \n",
    "       \n",
    "fill_cart()            "
   ]
  },
  {
   "cell_type": "code",
   "execution_count": 3,
   "metadata": {},
   "outputs": [],
   "source": [
    "%run './module_1.ipynb'"
   ]
  },
  {
   "cell_type": "code",
   "execution_count": 4,
   "metadata": {},
   "outputs": [
    {
     "name": "stdout",
     "output_type": "stream",
     "text": [
      "Please enter the length of the room in feet: 100\n",
      "Please enter the width of the room in feet: 100\n",
      "10000\n"
     ]
    },
    {
     "data": {
      "text/plain": [
       "10000"
      ]
     },
     "execution_count": 4,
     "metadata": {},
     "output_type": "execute_result"
    }
   ],
   "source": [
    "sqr_ft()"
   ]
  },
  {
   "cell_type": "code",
   "execution_count": 8,
   "metadata": {},
   "outputs": [
    {
     "name": "stdout",
     "output_type": "stream",
     "text": [
      "Please enter the radius of the circle: 172\n",
      "1080.00\n"
     ]
    }
   ],
   "source": [
    "circum()"
   ]
  },
  {
   "cell_type": "code",
   "execution_count": null,
   "metadata": {},
   "outputs": [],
   "source": []
  }
 ],
 "metadata": {
  "kernelspec": {
   "display_name": "Python 3.8.3 64-bit",
   "language": "python",
   "name": "python38364bitad0e14dfb83548af8999f899c74b7739"
  },
  "language_info": {
   "codemirror_mode": {
    "name": "ipython",
    "version": 3
   },
   "file_extension": ".py",
   "mimetype": "text/x-python",
   "name": "python",
   "nbconvert_exporter": "python",
   "pygments_lexer": "ipython3",
   "version": "3.8.3"
  }
 },
 "nbformat": 4,
 "nbformat_minor": 4
}
