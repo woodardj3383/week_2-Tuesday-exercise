{
 "cells": [
  {
   "cell_type": "code",
   "execution_count": null,
   "metadata": {},
   "outputs": [],
   "source": [
    "def sqr_ft():\n",
    "    ask = input('Please enter the length of the room in feet: ')\n",
    "    ask2 = input('Please enter the width of the room in feet: ')\n",
    "    print(int(ask) * int(ask2))\n",
    "    return(int(ask) * int(ask2))\n",
    "\n",
    "\n",
    "\n",
    "\n",
    "\n",
    "\n",
    "\n",
    "\n"
   ]
  },
  {
   "cell_type": "code",
   "execution_count": 3,
   "metadata": {},
   "outputs": [],
   "source": [
    "def circum():\n",
    "    r = input('Please enter the radius of the circle: ')\n",
    "    answer = int(2 * (3.14 * int(r)))\n",
    "    float2 = \"{:.2f}\".format(answer)\n",
    "    print(float2)"
   ]
  },
  {
   "cell_type": "code",
   "execution_count": null,
   "metadata": {},
   "outputs": [],
   "source": []
  }
 ],
 "metadata": {
  "kernelspec": {
   "display_name": "Python 3.8.3 64-bit",
   "language": "python",
   "name": "python38364bitad0e14dfb83548af8999f899c74b7739"
  },
  "language_info": {
   "codemirror_mode": {
    "name": "ipython",
    "version": 3
   },
   "file_extension": ".py",
   "mimetype": "text/x-python",
   "name": "python",
   "nbconvert_exporter": "python",
   "pygments_lexer": "ipython3",
   "version": "3.8.3"
  }
 },
 "nbformat": 4,
 "nbformat_minor": 4
}
